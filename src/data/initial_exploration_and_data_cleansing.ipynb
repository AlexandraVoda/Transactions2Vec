{
 "cells": [
  {
   "cell_type": "markdown",
   "metadata": {},
   "source": [
    "## Data loading and understanding"
   ]
  },
  {
   "cell_type": "markdown",
   "metadata": {},
   "source": [
    "### Data Set Information : Online Retail Data set\n",
    "<i> This is a transnational data set which contains all the transactions occurring between 01/12/20210 and 09/12/2011 for a UK-based and registered non-store online retail.  \n",
    "    Data can be downloaded from <a href = https://archive.ics.uci.edu/ml/datasets/online+retail > UCI Machine Learning Repository.<a/></i>   \n",
    "\n",
    "### Attribute Information:\n",
    "\n",
    "* InvoiceNo: Invoice number. Nominal, a 6-digit integral number uniquely assigned to each transaction. If this code starts with letter 'c', it indicates a cancellation.\n",
    "* StockCode: Product (item) code. Nominal, a 5-digit integral number uniquely assigned to each distinct product.\n",
    "* Description: Product (item) name. Nominal.\n",
    "* Quantity: The quantities of each product (item) per transaction. Numeric.\n",
    "* InvoiceDate: Invice Date and time. Numeric, the day and time when each transaction was generated.\n",
    "* UnitPrice: Unit price. Numeric, Product price per unit in sterling.\n",
    "* CustomerID: Customer number. Nominal, a 5-digit integral number uniquely assigned to each customer.\n",
    "* Country: Country name. Nominal, the name of the country where each customer resides"
   ]
  },
  {
   "cell_type": "code",
   "execution_count": 1,
   "metadata": {},
   "outputs": [],
   "source": [
    "import pandas as pd\n",
    "import numpy as np\n",
    "import matplotlib.pyplot as plt\n",
    "%matplotlib inline"
   ]
  },
  {
   "cell_type": "code",
   "execution_count": 2,
   "metadata": {},
   "outputs": [
    {
     "data": {
      "text/html": [
       "<div>\n",
       "<style scoped>\n",
       "    .dataframe tbody tr th:only-of-type {\n",
       "        vertical-align: middle;\n",
       "    }\n",
       "\n",
       "    .dataframe tbody tr th {\n",
       "        vertical-align: top;\n",
       "    }\n",
       "\n",
       "    .dataframe thead th {\n",
       "        text-align: right;\n",
       "    }\n",
       "</style>\n",
       "<table border=\"1\" class=\"dataframe\">\n",
       "  <thead>\n",
       "    <tr style=\"text-align: right;\">\n",
       "      <th></th>\n",
       "      <th>InvoiceNo</th>\n",
       "      <th>StockCode</th>\n",
       "      <th>Description</th>\n",
       "      <th>Quantity</th>\n",
       "      <th>InvoiceDate</th>\n",
       "      <th>UnitPrice</th>\n",
       "      <th>CustomerID</th>\n",
       "      <th>Country</th>\n",
       "    </tr>\n",
       "  </thead>\n",
       "  <tbody>\n",
       "    <tr>\n",
       "      <td>count</td>\n",
       "      <td>541909.0</td>\n",
       "      <td>541909</td>\n",
       "      <td>540455</td>\n",
       "      <td>541909.000000</td>\n",
       "      <td>541909</td>\n",
       "      <td>541909.000000</td>\n",
       "      <td>406829.000000</td>\n",
       "      <td>541909</td>\n",
       "    </tr>\n",
       "    <tr>\n",
       "      <td>unique</td>\n",
       "      <td>25900.0</td>\n",
       "      <td>4070</td>\n",
       "      <td>4223</td>\n",
       "      <td>NaN</td>\n",
       "      <td>23260</td>\n",
       "      <td>NaN</td>\n",
       "      <td>NaN</td>\n",
       "      <td>38</td>\n",
       "    </tr>\n",
       "    <tr>\n",
       "      <td>top</td>\n",
       "      <td>573585.0</td>\n",
       "      <td>85123A</td>\n",
       "      <td>WHITE HANGING HEART T-LIGHT HOLDER</td>\n",
       "      <td>NaN</td>\n",
       "      <td>2011-10-31 14:41:00</td>\n",
       "      <td>NaN</td>\n",
       "      <td>NaN</td>\n",
       "      <td>United Kingdom</td>\n",
       "    </tr>\n",
       "    <tr>\n",
       "      <td>freq</td>\n",
       "      <td>1114.0</td>\n",
       "      <td>2313</td>\n",
       "      <td>2369</td>\n",
       "      <td>NaN</td>\n",
       "      <td>1114</td>\n",
       "      <td>NaN</td>\n",
       "      <td>NaN</td>\n",
       "      <td>495478</td>\n",
       "    </tr>\n",
       "    <tr>\n",
       "      <td>first</td>\n",
       "      <td>NaN</td>\n",
       "      <td>NaN</td>\n",
       "      <td>NaN</td>\n",
       "      <td>NaN</td>\n",
       "      <td>2010-12-01 08:26:00</td>\n",
       "      <td>NaN</td>\n",
       "      <td>NaN</td>\n",
       "      <td>NaN</td>\n",
       "    </tr>\n",
       "    <tr>\n",
       "      <td>last</td>\n",
       "      <td>NaN</td>\n",
       "      <td>NaN</td>\n",
       "      <td>NaN</td>\n",
       "      <td>NaN</td>\n",
       "      <td>2011-12-09 12:50:00</td>\n",
       "      <td>NaN</td>\n",
       "      <td>NaN</td>\n",
       "      <td>NaN</td>\n",
       "    </tr>\n",
       "    <tr>\n",
       "      <td>mean</td>\n",
       "      <td>NaN</td>\n",
       "      <td>NaN</td>\n",
       "      <td>NaN</td>\n",
       "      <td>9.552250</td>\n",
       "      <td>NaN</td>\n",
       "      <td>4.611114</td>\n",
       "      <td>15287.690570</td>\n",
       "      <td>NaN</td>\n",
       "    </tr>\n",
       "    <tr>\n",
       "      <td>std</td>\n",
       "      <td>NaN</td>\n",
       "      <td>NaN</td>\n",
       "      <td>NaN</td>\n",
       "      <td>218.081158</td>\n",
       "      <td>NaN</td>\n",
       "      <td>96.759853</td>\n",
       "      <td>1713.600303</td>\n",
       "      <td>NaN</td>\n",
       "    </tr>\n",
       "    <tr>\n",
       "      <td>min</td>\n",
       "      <td>NaN</td>\n",
       "      <td>NaN</td>\n",
       "      <td>NaN</td>\n",
       "      <td>-80995.000000</td>\n",
       "      <td>NaN</td>\n",
       "      <td>-11062.060000</td>\n",
       "      <td>12346.000000</td>\n",
       "      <td>NaN</td>\n",
       "    </tr>\n",
       "    <tr>\n",
       "      <td>25%</td>\n",
       "      <td>NaN</td>\n",
       "      <td>NaN</td>\n",
       "      <td>NaN</td>\n",
       "      <td>1.000000</td>\n",
       "      <td>NaN</td>\n",
       "      <td>1.250000</td>\n",
       "      <td>13953.000000</td>\n",
       "      <td>NaN</td>\n",
       "    </tr>\n",
       "    <tr>\n",
       "      <td>50%</td>\n",
       "      <td>NaN</td>\n",
       "      <td>NaN</td>\n",
       "      <td>NaN</td>\n",
       "      <td>3.000000</td>\n",
       "      <td>NaN</td>\n",
       "      <td>2.080000</td>\n",
       "      <td>15152.000000</td>\n",
       "      <td>NaN</td>\n",
       "    </tr>\n",
       "    <tr>\n",
       "      <td>75%</td>\n",
       "      <td>NaN</td>\n",
       "      <td>NaN</td>\n",
       "      <td>NaN</td>\n",
       "      <td>10.000000</td>\n",
       "      <td>NaN</td>\n",
       "      <td>4.130000</td>\n",
       "      <td>16791.000000</td>\n",
       "      <td>NaN</td>\n",
       "    </tr>\n",
       "    <tr>\n",
       "      <td>max</td>\n",
       "      <td>NaN</td>\n",
       "      <td>NaN</td>\n",
       "      <td>NaN</td>\n",
       "      <td>80995.000000</td>\n",
       "      <td>NaN</td>\n",
       "      <td>38970.000000</td>\n",
       "      <td>18287.000000</td>\n",
       "      <td>NaN</td>\n",
       "    </tr>\n",
       "  </tbody>\n",
       "</table>\n",
       "</div>"
      ],
      "text/plain": [
       "        InvoiceNo StockCode                         Description  \\\n",
       "count    541909.0    541909                              540455   \n",
       "unique    25900.0      4070                                4223   \n",
       "top      573585.0    85123A  WHITE HANGING HEART T-LIGHT HOLDER   \n",
       "freq       1114.0      2313                                2369   \n",
       "first         NaN       NaN                                 NaN   \n",
       "last          NaN       NaN                                 NaN   \n",
       "mean          NaN       NaN                                 NaN   \n",
       "std           NaN       NaN                                 NaN   \n",
       "min           NaN       NaN                                 NaN   \n",
       "25%           NaN       NaN                                 NaN   \n",
       "50%           NaN       NaN                                 NaN   \n",
       "75%           NaN       NaN                                 NaN   \n",
       "max           NaN       NaN                                 NaN   \n",
       "\n",
       "             Quantity          InvoiceDate      UnitPrice     CustomerID  \\\n",
       "count   541909.000000               541909  541909.000000  406829.000000   \n",
       "unique            NaN                23260            NaN            NaN   \n",
       "top               NaN  2011-10-31 14:41:00            NaN            NaN   \n",
       "freq              NaN                 1114            NaN            NaN   \n",
       "first             NaN  2010-12-01 08:26:00            NaN            NaN   \n",
       "last              NaN  2011-12-09 12:50:00            NaN            NaN   \n",
       "mean         9.552250                  NaN       4.611114   15287.690570   \n",
       "std        218.081158                  NaN      96.759853    1713.600303   \n",
       "min     -80995.000000                  NaN  -11062.060000   12346.000000   \n",
       "25%          1.000000                  NaN       1.250000   13953.000000   \n",
       "50%          3.000000                  NaN       2.080000   15152.000000   \n",
       "75%         10.000000                  NaN       4.130000   16791.000000   \n",
       "max      80995.000000                  NaN   38970.000000   18287.000000   \n",
       "\n",
       "               Country  \n",
       "count           541909  \n",
       "unique              38  \n",
       "top     United Kingdom  \n",
       "freq            495478  \n",
       "first              NaN  \n",
       "last               NaN  \n",
       "mean               NaN  \n",
       "std                NaN  \n",
       "min                NaN  \n",
       "25%                NaN  \n",
       "50%                NaN  \n",
       "75%                NaN  \n",
       "max                NaN  "
      ]
     },
     "execution_count": 2,
     "metadata": {},
     "output_type": "execute_result"
    }
   ],
   "source": [
    "data = pd.read_excel('../data/raw/Online Retail.xlsx', header = 0)\n",
    "data.describe(include='all')"
   ]
  },
  {
   "cell_type": "code",
   "execution_count": 3,
   "metadata": {},
   "outputs": [
    {
     "data": {
      "text/html": [
       "<div>\n",
       "<style scoped>\n",
       "    .dataframe tbody tr th:only-of-type {\n",
       "        vertical-align: middle;\n",
       "    }\n",
       "\n",
       "    .dataframe tbody tr th {\n",
       "        vertical-align: top;\n",
       "    }\n",
       "\n",
       "    .dataframe thead th {\n",
       "        text-align: right;\n",
       "    }\n",
       "</style>\n",
       "<table border=\"1\" class=\"dataframe\">\n",
       "  <thead>\n",
       "    <tr style=\"text-align: right;\">\n",
       "      <th></th>\n",
       "      <th>InvoiceNo</th>\n",
       "      <th>StockCode</th>\n",
       "      <th>Description</th>\n",
       "      <th>Quantity</th>\n",
       "      <th>InvoiceDate</th>\n",
       "      <th>UnitPrice</th>\n",
       "      <th>CustomerID</th>\n",
       "      <th>Country</th>\n",
       "    </tr>\n",
       "  </thead>\n",
       "  <tbody>\n",
       "    <tr>\n",
       "      <td>0</td>\n",
       "      <td>536365</td>\n",
       "      <td>85123A</td>\n",
       "      <td>WHITE HANGING HEART T-LIGHT HOLDER</td>\n",
       "      <td>6</td>\n",
       "      <td>2010-12-01 08:26:00</td>\n",
       "      <td>2.55</td>\n",
       "      <td>17850.0</td>\n",
       "      <td>United Kingdom</td>\n",
       "    </tr>\n",
       "    <tr>\n",
       "      <td>1</td>\n",
       "      <td>536365</td>\n",
       "      <td>71053</td>\n",
       "      <td>WHITE METAL LANTERN</td>\n",
       "      <td>6</td>\n",
       "      <td>2010-12-01 08:26:00</td>\n",
       "      <td>3.39</td>\n",
       "      <td>17850.0</td>\n",
       "      <td>United Kingdom</td>\n",
       "    </tr>\n",
       "    <tr>\n",
       "      <td>2</td>\n",
       "      <td>536365</td>\n",
       "      <td>84406B</td>\n",
       "      <td>CREAM CUPID HEARTS COAT HANGER</td>\n",
       "      <td>8</td>\n",
       "      <td>2010-12-01 08:26:00</td>\n",
       "      <td>2.75</td>\n",
       "      <td>17850.0</td>\n",
       "      <td>United Kingdom</td>\n",
       "    </tr>\n",
       "    <tr>\n",
       "      <td>3</td>\n",
       "      <td>536365</td>\n",
       "      <td>84029G</td>\n",
       "      <td>KNITTED UNION FLAG HOT WATER BOTTLE</td>\n",
       "      <td>6</td>\n",
       "      <td>2010-12-01 08:26:00</td>\n",
       "      <td>3.39</td>\n",
       "      <td>17850.0</td>\n",
       "      <td>United Kingdom</td>\n",
       "    </tr>\n",
       "    <tr>\n",
       "      <td>4</td>\n",
       "      <td>536365</td>\n",
       "      <td>84029E</td>\n",
       "      <td>RED WOOLLY HOTTIE WHITE HEART.</td>\n",
       "      <td>6</td>\n",
       "      <td>2010-12-01 08:26:00</td>\n",
       "      <td>3.39</td>\n",
       "      <td>17850.0</td>\n",
       "      <td>United Kingdom</td>\n",
       "    </tr>\n",
       "  </tbody>\n",
       "</table>\n",
       "</div>"
      ],
      "text/plain": [
       "  InvoiceNo StockCode                          Description  Quantity  \\\n",
       "0    536365    85123A   WHITE HANGING HEART T-LIGHT HOLDER         6   \n",
       "1    536365     71053                  WHITE METAL LANTERN         6   \n",
       "2    536365    84406B       CREAM CUPID HEARTS COAT HANGER         8   \n",
       "3    536365    84029G  KNITTED UNION FLAG HOT WATER BOTTLE         6   \n",
       "4    536365    84029E       RED WOOLLY HOTTIE WHITE HEART.         6   \n",
       "\n",
       "          InvoiceDate  UnitPrice  CustomerID         Country  \n",
       "0 2010-12-01 08:26:00       2.55     17850.0  United Kingdom  \n",
       "1 2010-12-01 08:26:00       3.39     17850.0  United Kingdom  \n",
       "2 2010-12-01 08:26:00       2.75     17850.0  United Kingdom  \n",
       "3 2010-12-01 08:26:00       3.39     17850.0  United Kingdom  \n",
       "4 2010-12-01 08:26:00       3.39     17850.0  United Kingdom  "
      ]
     },
     "execution_count": 3,
     "metadata": {},
     "output_type": "execute_result"
    }
   ],
   "source": [
    "data.head()"
   ]
  },
  {
   "cell_type": "markdown",
   "metadata": {},
   "source": [
    "Each entry in the dataset corresponds to a single type of product purchased in a given transaction. In order to get all items in a single transaction, entries must by grouped by InvoiceNo."
   ]
  },
  {
   "cell_type": "code",
   "execution_count": 4,
   "metadata": {},
   "outputs": [
    {
     "name": "stdout",
     "output_type": "stream",
     "text": [
      "Total number of transactions: 25900\n"
     ]
    }
   ],
   "source": [
    "data_by_invoice_no = data.groupby('InvoiceNo')\n",
    "print(\"Total number of transactions: {0}\".format(len(data_by_invoice_no.groups)))\n"
   ]
  },
  {
   "cell_type": "markdown",
   "metadata": {},
   "source": [
    "Below there is a series of statistics regarding various particularities of this e-commerce dataset that will help us understand the data."
   ]
  },
  {
   "cell_type": "code",
   "execution_count": 5,
   "metadata": {},
   "outputs": [
    {
     "data": {
      "text/plain": [
       "InvoiceNo           0\n",
       "StockCode           0\n",
       "Description      1454\n",
       "Quantity            0\n",
       "InvoiceDate         0\n",
       "UnitPrice           0\n",
       "CustomerID     135080\n",
       "Country             0\n",
       "dtype: int64"
      ]
     },
     "execution_count": 5,
     "metadata": {},
     "output_type": "execute_result"
    }
   ],
   "source": [
    "data.isnull().sum()"
   ]
  },
  {
   "cell_type": "markdown",
   "metadata": {},
   "source": [
    "***Important note***: there are 135080 entries with unknown customer."
   ]
  },
  {
   "cell_type": "code",
   "execution_count": 6,
   "metadata": {},
   "outputs": [
    {
     "name": "stdout",
     "output_type": "stream",
     "text": [
      "Number of duplicated entries: 5268\n"
     ]
    }
   ],
   "source": [
    "duplicated_entries_number = data.duplicated().sum()\n",
    "print(\"Number of duplicated entries: {0}\".format(duplicated_entries_number))"
   ]
  },
  {
   "cell_type": "markdown",
   "metadata": {},
   "source": [
    "We'll remove duplicated entries in the data cleaning step."
   ]
  },
  {
   "cell_type": "code",
   "execution_count": 7,
   "metadata": {},
   "outputs": [
    {
     "name": "stdout",
     "output_type": "stream",
     "text": [
      "Number of entries with negative quantity: 10624\n",
      "Number of entries with negative unit price: 2\n",
      "Total: 10626\n"
     ]
    },
    {
     "data": {
      "text/plain": [
       "<matplotlib.axes._subplots.AxesSubplot at 0x7ffcaa8d1b00>"
      ]
     },
     "execution_count": 7,
     "metadata": {},
     "output_type": "execute_result"
    },
    {
     "data": {
      "image/png": "[encoded data removed]",
      "text/plain": [
       "<Figure size 432x288 with 1 Axes>"
      ]
     },
     "metadata": {
      "needs_background": "light"
     },
     "output_type": "display_data"
    }
   ],
   "source": [
    "print(\"Number of entries with negative quantity: {0}\".format(len(data[data['Quantity']<0])))\n",
    "print(\"Number of entries with negative unit price: {0}\".format(len(data[data['UnitPrice']<0])))\n",
    "\n",
    "cancelled_entries = data[(data['Quantity']<0) | (data['UnitPrice']<0)]\n",
    "print(\"Total: {0}\".format(len(cancelled_entries)))\n",
    "\n",
    "data['Cancelled'] = (data['Quantity']<0) | (data['UnitPrice']<0)\n",
    "data['Cancelled'].value_counts().sort_values().plot(kind=\"bar\", title=\"Cancelled entries\")"
   ]
  },
  {
   "cell_type": "markdown",
   "metadata": {},
   "source": [
    "So we have 10626 entries with negative quantity and unit price. They probably come from transactions that were canceled. In order to make sure, I'll check if the transactions containing this entries only contain entries with negative values for the 2 mentioned fields."
   ]
  },
  {
   "cell_type": "code",
   "execution_count": 8,
   "metadata": {},
   "outputs": [
    {
     "name": "stdout",
     "output_type": "stream",
     "text": [
      "No of transaction entries containing products with negative quantity and unit price: 10626\n"
     ]
    }
   ],
   "source": [
    "#Get all entries where InvoiceNo appears in the list of entries with negative quantity or unit price\n",
    "cancelled_transactions_entries = data[data['InvoiceNo'].isin(cancelled_entries['InvoiceNo'])]\n",
    "print(\"No of transaction entries containing products with negative quantity and unit price: {0}\".format(len(cancelled_transactions_entries)))"
   ]
  },
  {
   "cell_type": "markdown",
   "metadata": {},
   "source": [
    "So we get the same number of entries: 10626. Therefore, this kind of transactions contain only entries of products with negative quantity or unit price. They represent cancelled transactions that will be removed in the data cleaning process."
   ]
  },
  {
   "cell_type": "code",
   "execution_count": 9,
   "metadata": {},
   "outputs": [
    {
     "name": "stdout",
     "output_type": "stream",
     "text": [
      "Number of cancelled transactions: 5174\n",
      "Percentage of cancelled transactions: 19.98%\n",
      "Number of NOT cancelled transations: 20726\n"
     ]
    }
   ],
   "source": [
    "cancelled_transactions = cancelled_entries.groupby('InvoiceNo')\n",
    "print(\"Number of cancelled transactions: {0}\".format(len(cancelled_transactions.groups)))\n",
    "\n",
    "cancelled_transactions_percentage = len(cancelled_transactions.groups)/len(data_by_invoice_no.groups) * 100.0\n",
    "print(\"Percentage of cancelled transactions: {:0.2f}%\".format(cancelled_transactions_percentage))\n",
    "\n",
    "print(\"Number of NOT cancelled transations: {0}\".format(len(data_by_invoice_no.groups) - len(cancelled_transactions.groups)))\n",
    "\n"
   ]
  },
  {
   "cell_type": "code",
   "execution_count": 10,
   "metadata": {},
   "outputs": [
    {
     "name": "stdout",
     "output_type": "stream",
     "text": [
      "Number of customers: 4372\n",
      "Number of customers with at least 1 not cancelled transaction: 4372\n",
      "Average number of purchased items per user: 121.51944190301921\n",
      "Average number of transactions per user: 4.7406221408966145\n"
     ]
    }
   ],
   "source": [
    "by_customer = data.groupby('CustomerID')\n",
    "print(\"Number of customers: {0}\".format(len(by_customer.groups)))\n",
    "\n",
    "not_cancelled_entries = data[(data['Quantity']>0) & (data['UnitPrice']>=0)]\n",
    "not_cancelled_transactions = not_cancelled_entries.groupby('InvoiceNo')\n",
    "not_canceled_by_customer = data.groupby('CustomerID')\n",
    "users_no_not_canceled = len(not_canceled_by_customer.groups)\n",
    "print(\"Number of customers with at least 1 not cancelled transaction: {0}\".format(users_no_not_canceled))\n",
    "\n",
    "print(\"Average number of purchased items per user: {0}\".format(len(not_cancelled_entries)/users_no_not_canceled))\n",
    "print(\"Average number of transactions per user: {0}\".format(len(not_cancelled_transactions.groups)/users_no_not_canceled))"
   ]
  },
  {
   "cell_type": "markdown",
   "metadata": {},
   "source": [
    "So we have the transactions of 4372 unique users. Each user made an average of 4.74 transactions and purchased a total of ~121.5 products."
   ]
  },
  {
   "cell_type": "code",
   "execution_count": 11,
   "metadata": {},
   "outputs": [
    {
     "name": "stdout",
     "output_type": "stream",
     "text": [
      "Number of entries with missing CustomerID: 135080\n",
      "Number of transactions with missing CustomerID: 3710\n",
      "Percentage of transaction with missing customer: 14.32%\n"
     ]
    }
   ],
   "source": [
    "unknown_customer_entries = data[data['CustomerID'].isna()]\n",
    "print(\"Number of entries with missing CustomerID: {0}\".format(len(unknown_customer_entries)))\n",
    "\n",
    "unknown_customer_transactions = unknown_customer_entries.groupby('InvoiceNo')\n",
    "print(\"Number of transactions with missing CustomerID: {0}\".format(len(unknown_customer_transactions.groups)))\n",
    "\n",
    "unknown_customer_percentage = len(unknown_customer_transactions.groups)/len(data_by_invoice_no.groups) * 100.0\n",
    "print(\"Percentage of transaction with missing customer: {:0.2f}%\".format(unknown_customer_percentage))"
   ]
  },
  {
   "cell_type": "code",
   "execution_count": 12,
   "metadata": {},
   "outputs": [
    {
     "name": "stdout",
     "output_type": "stream",
     "text": [
      "Total number of products: 4070\n",
      "\n",
      "Top most purchased products:\n",
      "                                              Quantity\n",
      "StockCode Description                                 \n",
      "23843     PAPER CRAFT , LITTLE BIRDIE            80995\n",
      "23166     MEDIUM CERAMIC TOP STORAGE JAR         78033\n",
      "84077     WORLD WAR 2 GLIDERS ASSTD DESIGNS      55047\n",
      "85099B    JUMBO BAG RED RETROSPOT                48478\n",
      "85123A    WHITE HANGING HEART T-LIGHT HOLDER     37603\n",
      "...                                                ...\n",
      "85160a    WHITE BIRD GARDEN DESIGN MUG               1\n",
      "85170A    SET/6 IVORY BIRD T-LIGHT CANDLES           1\n",
      "21160     KEEP OUT GIRLS DOOR HANGER                 1\n",
      "84510e    SET OF 4 GREEN CAROUSEL COASTERS           1\n",
      "m         Manual                                     1\n",
      "\n",
      "[4319 rows x 1 columns]\n"
     ]
    }
   ],
   "source": [
    "unique_products = data['StockCode'].nunique()\n",
    "print(\"Total number of products: {0}\\n\".format(unique_products))\n",
    "\n",
    "by_products_quantity_sum_df = not_cancelled_entries.groupby(['StockCode', 'Description'])[['Quantity']].agg(\"sum\").sort_values(by='Quantity', ascending=False)\n",
    "print(\"Top most purchased products:\")\n",
    "print(by_products_quantity_sum_df)"
   ]
  },
  {
   "cell_type": "code",
   "execution_count": 15,
   "metadata": {},
   "outputs": [
    {
     "name": "stdout",
     "output_type": "stream",
     "text": [
      "          Country  Number of customers\n",
      "0  United Kingdom               354345\n",
      "1         Germany                 9042\n",
      "2          France                 8342\n",
      "3            EIRE                 7238\n",
      "4           Spain                 2485\n",
      "5     Netherlands                 2363\n",
      "6         Belgium                 2031\n",
      "7     Switzerland                 1842\n",
      "8        Portugal                 1462\n",
      "9       Australia                 1185\n"
     ]
    },
    {
     "data": {
      "text/plain": [
       "<matplotlib.axes._subplots.AxesSubplot at 0x7ffcb3357320>"
      ]
     },
     "execution_count": 15,
     "metadata": {},
     "output_type": "execute_result"
    },
    {
     "data": {
      "image/png": "[encoded data removed]",
      "text/plain": [
       "<Figure size 432x288 with 1 Axes>"
      ]
     },
     "metadata": {
      "needs_background": "light"
     },
     "output_type": "display_data"
    }
   ],
   "source": [
    "by_country = not_cancelled_entries.groupby(['Country'])\n",
    "by_country_customers = by_country.agg({'CustomerID': 'count'}).rename(columns = {'CustomerID': 'Number of customers'}).sort_values('Number of customers', ascending=False).reset_index()\n",
    "top_10_countries = by_country_customers.head(10)\n",
    "print(top_10_countries)\n",
    "\n",
    "top_10_countries.set_index('Country').plot(kind='barh', title = 'Top 10 countries by number of customers')\n"
   ]
  },
  {
   "cell_type": "markdown",
   "metadata": {},
   "source": [
    "As we can see, the vast majority of customers come from United Kingdom."
   ]
  },
  {
   "cell_type": "code",
   "execution_count": null,
   "metadata": {},
   "outputs": [],
   "source": []
  }
 ],
 "metadata": {
  "kernelspec": {
   "display_name": "Python 3",
   "language": "python",
   "name": "python3"
  },
  "language_info": {
   "codemirror_mode": {
    "name": "ipython",
    "version": 3
   },
   "file_extension": ".py",
   "mimetype": "text/x-python",
   "name": "python",
   "nbconvert_exporter": "python",
   "pygments_lexer": "ipython3",
   "version": "3.7.3"
  }
 },
 "nbformat": 4,
 "nbformat_minor": 1
}
